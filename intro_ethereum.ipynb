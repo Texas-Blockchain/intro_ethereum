{
 "cells": [
  {
   "cell_type": "markdown",
   "metadata": {},
   "source": [
    "# Ethereum\n",
    "### How to navigate Web 3.0 using Python\n",
    "## ><><><><><><><><><><><><><><><><><><><><><><"
   ]
  },
  {
   "cell_type": "markdown",
   "metadata": {},
   "source": [
    "## 1) Import packages"
   ]
  },
  {
   "cell_type": "code",
   "execution_count": 1,
   "metadata": {},
   "outputs": [],
   "source": [
    "import pandas as pd\n",
    "from pprint import pprint\n",
    "import json\n",
    "\n",
    "from token_abi import abi\n",
    "from web3 import Web3, HTTPProvider"
   ]
  },
  {
   "cell_type": "markdown",
   "metadata": {},
   "source": [
    "## 2) Connect to a node on the network"
   ]
  },
  {
   "cell_type": "code",
   "execution_count": 2,
   "metadata": {},
   "outputs": [],
   "source": [
    "w3 = Web3(HTTPProvider(\"https://ropsten.infura.io/v3/4e529bfe5adb43d49db599afcf381cd3\"))"
   ]
  },
  {
   "cell_type": "markdown",
   "metadata": {},
   "source": [
    "## 3) Query the network for info"
   ]
  },
  {
   "cell_type": "code",
   "execution_count": 3,
   "metadata": {},
   "outputs": [
    {
     "name": "stdout",
     "output_type": "stream",
     "text": [
      "True\n",
      "1193100005634930273\n",
      "\n",
      "0x541111248b45b7a8dc3f5579f630e74cb01456ea6ac067d3f4d793245a255155\n",
      "0x6eecc0bb2d02edc5dab0a26d5af2aecdcb0109ffb4b8dd16e2488586d8499b6f\n",
      "\n",
      "6815725\n",
      "{'difficulty': 5329066097,\n",
      " 'extraData': HexBytes('0x41746c616e7469632043727970746f'),\n",
      " 'gasLimit': 8000029,\n",
      " 'gasUsed': 4612645,\n",
      " 'hash': HexBytes('0xba2b29dfbdfee3845d74269a7f7d8a775a0dd000cb416db1da75269b35035300'),\n",
      " 'logsBloom': HexBytes('0x0c0000203020400000000004000245c0034001100001000200000004820c80000020040000000000040000040000000200200000030000000804900000142000201020002400240000008008000200441001110048048000000021008000000008040a00520000008000000400000848400061000100181848018414002080010000040040004090c0082000000020002000042140040000020000010010102000000090031029410004010100a0e0400000000010c02010a0200140840b40400000900600420420080226000089000a0004010086000042000001005003e040020004100000048000046000001000000000a000008080820008400810020050'),\n",
      " 'miner': '0xD7a15BAEB7EA05C9660CBe03fB7999c2C2e57625',\n",
      " 'mixHash': HexBytes('0x4f8779ae44b28d3aba6e286e5caeed683e25f1515734d36005f9ea4891bc70b1'),\n",
      " 'nonce': HexBytes('0x2b75f916357871ed'),\n",
      " 'number': 6815725,\n",
      " 'parentHash': HexBytes('0x9043107dcec654067772edf685f3fbe0e547df00ac32484c531222e85b481c8b'),\n",
      " 'receiptsRoot': HexBytes('0x3870933635919c77e8ee51404452a4db010c601099bea6e15d83a333f016d297'),\n",
      " 'sha3Uncles': HexBytes('0x1dcc4de8dec75d7aab85b567b6ccd41ad312451b948a7413f0a142fd40d49347'),\n",
      " 'size': 32722,\n",
      " 'stateRoot': HexBytes('0xdb7538f0e377715a4a019d6f6b8c5789b601ca932b18b589b7b50cd7504016a6'),\n",
      " 'timestamp': 1574299214,\n",
      " 'totalDifficulty': 28260070428105742,\n",
      " 'transactions': [HexBytes('0xa485c8c0c6398033e188cdeb98388d9fcbd301fff4a5902457bfa3610a395dc1'),\n",
      "                  HexBytes('0x14a88162ff2147cb09762f517872fbf6dd729ca20332afac76bef212f326aa65'),\n",
      "                  HexBytes('0x848ceafd7530ec0fb540b19710aab64e10f0460c33c85f4eb66223740425d2c9'),\n",
      "                  HexBytes('0x7134cf6b74e8a47b4a9d677bd6a907016fffb1696c0cedd43e0d67ead0cd5c80'),\n",
      "                  HexBytes('0xf919e4ea737312f598961b30dd140974d586b2885f6bbb16e660787b1ed1207f'),\n",
      "                  HexBytes('0x0e2fd885c5550921f720153a60672bf74ef3034a3863964259faeb62d8f3ca13'),\n",
      "                  HexBytes('0xfb8ecd8203292b392cd93854861aad8867e2c7e72d431b1933d7c48bca92cbd2'),\n",
      "                  HexBytes('0x513b39ad9db1249f5736db1b1147532bde51b53d74df7203884e7ac9da93a121'),\n",
      "                  HexBytes('0x9956f3c0e6d682c12c462b05fdd57ec027ff84d16b2b83e0331c113eb5ab8a50'),\n",
      "                  HexBytes('0xe6dfb60e45bc9b483c48f6e3c653b0802d96cb961e19cd0e02a1393c73c30594'),\n",
      "                  HexBytes('0xa364bd2b267573dc5ca4414e0d806749fdb8842db9709992a64c8889e70f8c82'),\n",
      "                  HexBytes('0x6666fcfa1330c3cfbd617abb431550a1d45ffa67136fa79630029952145407f3'),\n",
      "                  HexBytes('0xe6c7245c8c3dfa8d3c97b08f4631dada8ce64d69b9e27e928919bc14646da8f2'),\n",
      "                  HexBytes('0x8964db99e6eec2b63e31060134499153bd3cc97f0e41e2538a99357a1546f2ee'),\n",
      "                  HexBytes('0x5ec9d3c74dcca49158aee83cf706a74dbc95ce7107fc805434052d0533fae53a'),\n",
      "                  HexBytes('0xad70ab36f899969d32a9d51f4c7065d2f6d01985cd83140f5e283217554bcaae'),\n",
      "                  HexBytes('0x0088e18401134a4a43a17cb4e377d81402d3de4fa96635448bf6788bc022d23c'),\n",
      "                  HexBytes('0xf7eeac10beffa4b1106ead36e73bdeda06627745a44f2cea6cea07b4061dccbb'),\n",
      "                  HexBytes('0x2f673838796d9af748936e10583684ab6b85bf6620c3ee3a91631ca3f04fca41'),\n",
      "                  HexBytes('0xdd39f559d09845bcc8bfc6e7adeea16b586ab6c7c72473c90c0854f4e3de948f'),\n",
      "                  HexBytes('0x7b66ed72bf6bb75b620ee1877061eeaad87f7770dd13156f42289bba7db20478'),\n",
      "                  HexBytes('0x12ac7bd73ef93dcb43d6d7e54a781c045c522c20f65c1568dd1e81a5eeb50f31'),\n",
      "                  HexBytes('0x979de7df317041ccbda003e265f09ec30dd5a70ca5078ea800d6948cfafa1b7d'),\n",
      "                  HexBytes('0x1ab6fd4ba20557c87110dd8414bc8211af70a401424031b32d84af70f2006332'),\n",
      "                  HexBytes('0xc3c35d091590c56096928e53199e2b32073c14600b66ea779814c7e83572b20d'),\n",
      "                  HexBytes('0x464fad7142808412921041906e54a61625359b5a4f313190f7e92cb47dbea290'),\n",
      "                  HexBytes('0x0d27c05cd80348a283ef82b15cfef953d38b3fc8f502eec073e426d1f13457ec'),\n",
      "                  HexBytes('0xdd920c1b5827552a68041cec3c89842d8f894d62baa77de40d9078466a3422a2'),\n",
      "                  HexBytes('0xebbba7dd6a06b6b442c9a926b0cc33e8c24ca83efaf3201f564fd8b2daac7d6a'),\n",
      "                  HexBytes('0xf6acfb07d8f54a79dba0698b89fea806a9d4d08d82f4b8f65e78aa2411145fcb'),\n",
      "                  HexBytes('0x2586ed7cd31f3cfef9b19c985c8dff8488ad7453c3ceebda127b8d9609af4480'),\n",
      "                  HexBytes('0xb0924e785e4e42d64da36e3dff9c75d4d839acaebde8b9dd2b00c3ec94d7d040'),\n",
      "                  HexBytes('0x4908881130ab02f23aa73887a1c814cbc1f9d364c97629c7f3eedd8449712b30'),\n",
      "                  HexBytes('0x63d0f3d5d88bb8f895f875ccf489d2da397bc829ce8a23cebc4af4a8f57a5a78'),\n",
      "                  HexBytes('0xce15ef3ce656f1a031bbc788516c3e04c4f19539bcb2b873ec0bafca56602f66'),\n",
      "                  HexBytes('0x1e255df6dad44b5b73b631bcfad18d0579ba84d75e1e72a0db9d527a8d962385'),\n",
      "                  HexBytes('0xb68f9b051bd58bc3b17a86ede4e5a684f899704fb2ba36f70a4585b426f66745'),\n",
      "                  HexBytes('0x8751de533195820fc010a1261edf840122b04e4dd6bb89c610d416748c928316'),\n",
      "                  HexBytes('0xabad73764ed44ffc321c140e892ea156a0bd07423c7d76e3af858f113bd98dd8'),\n",
      "                  HexBytes('0xb2957ce8fdba2414cf4ad6916508a328299d97508337546f02df46fb21062869'),\n",
      "                  HexBytes('0x0641f81d1a63cdb8e197657708b574ff6565b26464b0a52a2b07ca1d598a00a3'),\n",
      "                  HexBytes('0xae27272844626feefc60d089929a9ec72954b8d09d2f78437b75ab11eed97a35'),\n",
      "                  HexBytes('0x799b3038e786e0e11d18e1cb7ae5dffbd18acca81068c56b594bc6f7b875a068'),\n",
      "                  HexBytes('0x6be08c6c32a53b991998cd8a35de6fade12a0f871abf1d2d8404ff31647a0afa'),\n",
      "                  HexBytes('0x6a7e26edd401eed5c90e8f5c7cf2e43da1de5f15bd98ae2b4f6754b1f4331c37'),\n",
      "                  HexBytes('0x801de90fcc78aa62d37d24217371a706259ad8011c0a5797109c0633be7b19ac'),\n",
      "                  HexBytes('0x616dd8efb1333ec3e40c8bd124170f868e313fdda47aa77e1ac14e8039ff69fa'),\n",
      "                  HexBytes('0x347c1689778c43aa907384583b6e0477b9a536fa73c1ecae413d9fe62007ee48'),\n",
      "                  HexBytes('0x0698cb6331ee71a4b9c45cf00ab662af1ed5091cbc9f05e7d36ea3a003362ea9'),\n",
      "                  HexBytes('0xebe1cff6a8da8d38c43949d919cc3862546eabaf597dbbcc2b2b72e56371f17d'),\n",
      "                  HexBytes('0x73a62be691afbd30f6604873dd1971ff04a152e471fff4d99c56eb4eb0b43017'),\n",
      "                  HexBytes('0x40e068e65d147d05432ede8d30db249be70bae2c28c4def6d257fb91075eebb3'),\n",
      "                  HexBytes('0x786ec93a9baa14e66155d57779833bdbb4c46868a53eb6878bf23be5cac8505a'),\n",
      "                  HexBytes('0x19f446cd8ef3efccbdfea5feb9b35c40cccf5e909d6e7a5af377a4cbf6a1b248'),\n",
      "                  HexBytes('0xe7dba392a572ec780af58924beafea20a55bde76d9fe59e05c14fdaea523a6bf'),\n",
      "                  HexBytes('0xf0071b1c3c9041650d44e73c4af6646fff385a783c00c4a439858ec9ba494fac'),\n",
      "                  HexBytes('0x26f40696087131f0a1054a0abcf532f7b8a3c47426a505ef339863c5e9966963'),\n",
      "                  HexBytes('0xd168f0fdeb7bdf87047da2b2085e437aa9175f11b1b13f1aaee35c3b960f17a5'),\n",
      "                  HexBytes('0xb5cafca521a1acf088a51adcac9e7e269d272af1fbd9b5970125f7cd5a956997'),\n",
      "                  HexBytes('0x70a58d574a4ede92a0d0cb572bfac472cb027ec1679fa20e906b91321d10e012'),\n",
      "                  HexBytes('0x8ba90d18608ee644ef5bfd94464d2078b15df7c9ee065c0967db54dc0a0bb059'),\n",
      "                  HexBytes('0xf4b69e9626427b826e0a9b554f22f6c45432519860d5268f928963a6e00b4c29'),\n",
      "                  HexBytes('0x8777b3c8e3d65c72ccf41c812d4d897fae32630ec8a64ce91a2a1246244fd312'),\n",
      "                  HexBytes('0x6ed2190c4b9caca2b5d1d73c4bd8743e706c9f39f94727f07d147f8aad51ec96'),\n",
      "                  HexBytes('0xbae199f7942b5fe8b55c153e932ccef9edb4af19e6870242d84db0b0960389b7'),\n",
      "                  HexBytes('0x3737b6b06011fc7e08f7810f833293b5749018780faa7acef45007bf35fb2213'),\n",
      "                  HexBytes('0x9acdd83aed48fd9cc038bb3e22fbb4442bfe5ef899f484ae3b27983efb9e2e41'),\n",
      "                  HexBytes('0xb9fc67fb68b1b79594577135a5d5d488619365883fad5cacfe00c93f0bd0f43a')],\n",
      " 'transactionsRoot': HexBytes('0x4af2702d9bec3bd5f5ef0de1473a86971c5842d013c7ed5584828cafd1a2777f'),\n",
      " 'uncles': []}\n"
     ]
    }
   ],
   "source": [
    "print(w3.isAddress('0xd3cda913deb6f67967b99d67acdfa1712c293601'))\n",
    "print(w3.eth.getBalance(w3.toChecksumAddress('0xd3cda913deb6f67967b99d67acdfa1712c293601')))\n",
    "\n",
    "print()\n",
    "\n",
    "print(w3.keccak(text='ethereum').hex())\n",
    "print(w3.keccak(text='ethereum1').hex())\n",
    "\n",
    "print()\n",
    "\n",
    "print(w3.eth.blockNumber)\n",
    "pprint(dict(w3.eth.getBlock('latest')))"
   ]
  },
  {
   "cell_type": "markdown",
   "metadata": {},
   "source": [
    "## 4) Join ponzi scheme"
   ]
  },
  {
   "cell_type": "code",
   "execution_count": 8,
   "metadata": {},
   "outputs": [
    {
     "name": "stdout",
     "output_type": "stream",
     "text": [
      "AttributeDict({'blockHash': HexBytes('0x89d932b2bc0048e7db80ccee677469b87b5c156084b76eec95779d2381fb4dc3'), 'blockNumber': 6815796, 'contractAddress': None, 'cumulativeGasUsed': 3663313, 'from': '0xcbcffbecdb81698ddf3504d4e7dbed8565f02715', 'gasUsed': 41080, 'logs': [], 'logsBloom': HexBytes('0x00000000000000000000000000000000000000000000000000000000000000000000000000000000000000000000000000000000000000000000000000000000000000000000000000000000000000000000000000000000000000000000000000000000000000000000000000000000000000000000000000000000000000000000000000000000000000000000000000000000000000000000000000000000000000000000000000000000000000000000000000000000000000000000000000000000000000000000000000000000000000000000000000000000000000000000000000000000000000000000000000000000000000000000000000000000'), 'status': 1, 'to': '0x4378436c4ee7a7d4235bc70aca5772e5ce0c0113', 'transactionHash': HexBytes('0x311152420f8aeaf1e7f55dfd01e55553b7a552482a81d0fc7403389dfc18abae'), 'transactionIndex': 53})\n"
     ]
    }
   ],
   "source": [
    "# Set ponzi contract address\n",
    "ponzi_address = w3.toChecksumAddress('0x4378436c4ee7a7d4235bc70aca5772e5ce0c0113')\n",
    "\n",
    "# Set sender's public and private key\n",
    "public_key = w3.toChecksumAddress('0xCbcFfBecdB81698DDF3504d4E7dbeD8565f02715')\n",
    "private_key = 'CDF28FC7FDCDA6126BE2ECE17CD2008F7C4FB77F25E07F5D810F933BA72E0FA2'\n",
    "\n",
    "# Build transaction and sign with private key\n",
    "signed_tx = w3.eth.account.signTransaction(dict(\n",
    "    to=ponzi_address,\n",
    "    value=1000000000000000000,\n",
    "    nonce=w3.eth.getTransactionCount(public_key),\n",
    "    gas=200000,\n",
    "    gasPrice=w3.eth.gasPrice\n",
    "  ), private_key)\n",
    "\n",
    "# Send transaction\n",
    "txn_hash = w3.eth.sendRawTransaction(signed_tx.rawTransaction)\n",
    "success = w3.eth.waitForTransactionReceipt(txn_hash)\n",
    "print(success)"
   ]
  },
  {
   "cell_type": "markdown",
   "metadata": {},
   "source": [
    "## 5) Mint tokens to address"
   ]
  },
  {
   "cell_type": "code",
   "execution_count": 9,
   "metadata": {},
   "outputs": [
    {
     "name": "stdout",
     "output_type": "stream",
     "text": [
      "<Function mint(address,uint256) bound to ('0xd4034AC5899e7E87e40D227Bd055d8794E7c0eCE', 10000000000000000000)>\n",
      "{'value': 0, 'gasPrice': 1000000000, 'chainId': 3, 'gas': 2000000, 'nonce': 185, 'to': '0x35cae81Ed8Ed242E7db6eDcafEAb04A91cD60184', 'data': '0x40c10f19000000000000000000000000d4034ac5899e7e87e40d227bd055d8794e7c0ece0000000000000000000000000000000000000000000000008ac7230489e80000'}\n",
      "AttributeDict({'blockHash': HexBytes('0x6631667139132431dd6354f25c04823b1525461af625cdf35be780e2e1876a7c'), 'blockNumber': 6815826, 'contractAddress': None, 'cumulativeGasUsed': 1268525, 'from': '0xcbcffbecdb81698ddf3504d4e7dbed8565f02715', 'gasUsed': 36726, 'logs': [AttributeDict({'address': '0x35cae81Ed8Ed242E7db6eDcafEAb04A91cD60184', 'blockHash': HexBytes('0x6631667139132431dd6354f25c04823b1525461af625cdf35be780e2e1876a7c'), 'blockNumber': 6815826, 'data': '0x0000000000000000000000000000000000000000000000008ac7230489e80000', 'logIndex': 22, 'removed': False, 'topics': [HexBytes('0xddf252ad1be2c89b69c2b068fc378daa952ba7f163c4a11628f55a4df523b3ef'), HexBytes('0x0000000000000000000000000000000000000000000000000000000000000000'), HexBytes('0x000000000000000000000000d4034ac5899e7e87e40d227bd055d8794e7c0ece')], 'transactionHash': HexBytes('0x1f9e3b836e995b8eecfd33e7002ceb8256d6692d98d1e90cffed733fb7af141a'), 'transactionIndex': 31})], 'logsBloom': HexBytes('0x00000010000000000000000010000000000000000000000000000000000000000100000000000000004000000000000000000000000000000000000000000000000000000000000000000008000000000000000000000000000000000000000000000000020000000000000000000800000040000000000000000010000000000000000000000000000000000000000000000000000000000000000000000000000000000000000000000000000000000000000000000000000000000000000000000002000000000000000000000000000000000000000000000000000020000000000000000000000000000000000080000000000000000000000000000000'), 'status': 1, 'to': '0x35cae81ed8ed242e7db6edcafeab04a91cd60184', 'transactionHash': HexBytes('0x1f9e3b836e995b8eecfd33e7002ceb8256d6692d98d1e90cffed733fb7af141a'), 'transactionIndex': 31})\n"
     ]
    }
   ],
   "source": [
    "# Set token contract address\n",
    "token_address = w3.toChecksumAddress('0x35cae81ed8ed242e7db6edcafeab04a91cd60184')\n",
    "\n",
    "# Set address to receive tokens\n",
    "mintee = w3.toChecksumAddress('0xd4034AC5899e7E87e40D227Bd055d8794E7c0eCE')\n",
    "\n",
    "# Get contract object using web3\n",
    "contract = w3.eth.contract(address=token_address, abi=abi)\n",
    "\n",
    "# Get transaction count of caller to use as nonce\n",
    "tx_count = w3.eth.getTransactionCount(public_key)\n",
    "\n",
    "# Build transaction\n",
    "mint_tx = contract.functions.mint(mintee, 10000000000000000000)\n",
    "print(mint_tx)\n",
    "\n",
    "tx = mint_tx.buildTransaction({'gas': 2000000, 'nonce': tx_count})\n",
    "print(tx)\n",
    "\n",
    "# Sign transaction\n",
    "signed = w3.eth.account.signTransaction(tx, private_key)\n",
    "\n",
    "# Send transaction\n",
    "txn_hash = w3.eth.sendRawTransaction(signed.rawTransaction)\n",
    "success = w3.eth.waitForTransactionReceipt(txn_hash)\n",
    "print(success)"
   ]
  },
  {
   "cell_type": "code",
   "execution_count": null,
   "metadata": {},
   "outputs": [],
   "source": []
  }
 ],
 "metadata": {
  "kernelspec": {
   "display_name": "Python 3",
   "language": "python",
   "name": "python3"
  },
  "language_info": {
   "codemirror_mode": {
    "name": "ipython",
    "version": 3
   },
   "file_extension": ".py",
   "mimetype": "text/x-python",
   "name": "python",
   "nbconvert_exporter": "python",
   "pygments_lexer": "ipython3",
   "version": "3.7.3"
  }
 },
 "nbformat": 4,
 "nbformat_minor": 2
}
